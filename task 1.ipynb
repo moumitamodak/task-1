{
 "cells": [
  {
   "cell_type": "code",
   "execution_count": null,
   "id": "aa818368-a1c4-4b95-ae01-f0d27ffd4dfb",
   "metadata": {},
   "outputs": [],
   "source": []
  }
 ],
 "metadata": {
  "kernelspec": {
   "display_name": "",
   "name": ""
  },
  "language_info": {
   "name": ""
  }
 },
 "nbformat": 4,
 "nbformat_minor": 5
}
